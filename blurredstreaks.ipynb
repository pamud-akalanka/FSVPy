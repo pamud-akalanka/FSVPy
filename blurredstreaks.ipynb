{
 "cells": [
  {
   "cell_type": "code",
   "execution_count": null,
   "metadata": {},
   "outputs": [],
   "source": [
    "import matplotlib.pyplot as plt\n",
    "import numpy as np\n",
    "import pims\n",
    "import fsvpy as fsv\n",
    "import pandas as pd\n",
    "from pandas import DataFrame, Series\n",
    "from scipy.optimize import curve_fit\n",
    "import os.path\n",
    "from scipy.optimize import OptimizeWarning\n",
    "import warnings"
   ]
  },
  {
   "cell_type": "code",
   "execution_count": null,
   "metadata": {},
   "outputs": [],
   "source": [
    "@pims.pipeline\n",
    "def conv_grey(frame):\n",
    "    one_channel = frame[:,:,1]\n",
    "    return one_channel\n",
    "\n",
    "#change tiff stack here ------>\n",
    "frames = pims.open('D:/Lab_Data_Akalanka/2024_03_27/Flow_center/*.tif')\n",
    "frame = 654 #frame to show"
   ]
  },
  {
   "cell_type": "code",
   "execution_count": null,
   "metadata": {},
   "outputs": [],
   "source": []
  }
 ],
 "metadata": {
  "language_info": {
   "name": "python"
  }
 },
 "nbformat": 4,
 "nbformat_minor": 2
}
