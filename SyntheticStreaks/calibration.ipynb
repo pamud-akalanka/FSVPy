{
 "cells": [
  {
   "cell_type": "markdown",
   "metadata": {},
   "source": [
    "This code primarily detects the edges of the almost spherical particles and outputs the diameter"
   ]
  },
  {
   "cell_type": "code",
   "execution_count": null,
   "metadata": {},
   "outputs": [],
   "source": [
    "import matplotlib as mpl\n",
    "import matplotlib.pyplot as plt\n",
    "import numpy as np\n",
    "import pandas as pd\n",
    "import pims\n",
    "import skimage.measure\n",
    "import pylab\n",
    "from skimage.filters import difference_of_gaussians, window, gaussian\n",
    "from scipy.optimize import curve_fit\n",
    "import radial_functions as fun\n",
    "from radial_functions import see_all_contours, hyperbolic\n",
    "import math\n",
    "import contextlib\n"
   ]
  },
  {
   "cell_type": "code",
   "execution_count": null,
   "metadata": {},
   "outputs": [],
   "source": [
    "#user defined parameters\n",
    "\n",
    "res = 325 #nm per px\n",
    "shift = -0\n",
    "step_size = 0.75 #um"
   ]
  },
  {
   "cell_type": "code",
   "execution_count": null,
   "metadata": {},
   "outputs": [],
   "source": [
    "mpl.rc('figure', figsize=(10,5))\n",
    "mpl.rc('image', cmap='gray')\n",
    "#matplotlib specs\n",
    "\n",
    "@pims.pipeline\n",
    "def conv_gray(frame):\n",
    "    one_channel = frame[:,:,1]\n",
    "    return one_channel\n",
    "\n",
    "#frames =(pims.open('D:/Lab_Data_Akalanka/Cropped_0.25umstep_325nmpx/*.tif'))\n",
    "frames =(pims.open('D:/Lab_Data_Akalanka/2024_07_12/cropped/low/*.tif'))\n",
    "#img = frames[125:217]\n",
    "img = frames[1:65]\n",
    "#fun.see_contour(img[95],True)"
   ]
  },
  {
   "cell_type": "code",
   "execution_count": null,
   "metadata": {},
   "outputs": [],
   "source": [
    "def Get_Center(img,frameStart, frameEnd, plott):\n",
    "\n",
    "    img = img[frameStart:frameEnd]\n",
    "    contour = fun.see_all_contours(img,100)\n",
    "    xpos = np.asarray(contour['x'])\n",
    "    ypos = np.asarray(contour['y'])\n",
    "    radius = np.asarray(contour['radius'])[:]\n",
    "\n",
    "    #Plot to see the image\n",
    "    #call to plot_frame\n",
    "    if plott==True:\n",
    "        plot_frame(frames[frameStart],xpos,ypos,radius)\n",
    "\n",
    "    return (xpos, ypos)\n",
    "\n",
    "#plot contour inside frame\n",
    "def plot_frame(frame,xpos,ypos,radius):\n",
    "        \n",
    "    fig, ax = plt.subplots()\n",
    "    ax.imshow(frame,  cmap=\"Greys_r\")\n",
    "    ax.plot(xpos,ypos, 'r+', linewidth='2')\n",
    "    circle1 = plt.Circle((xpos, ypos),radius,color='r', fill=False, linewidth=0.5)\n",
    "    ax.add_patch(circle1)\n",
    "\n",
    "    fig.canvas.draw()\n",
    "    plt.show()\n",
    "\n",
    "    return \n"
   ]
  },
  {
   "cell_type": "code",
   "execution_count": null,
   "metadata": {},
   "outputs": [],
   "source": [
    "#with contextlib.suppress(Exception):\n",
    "#   thresh=200\n",
    "#  MYcontours = fun.see_all_contours(img,thresh)\n",
    "radius=[] \n",
    "centerx=[]; centery =[]; radial_profiles=[];\n",
    "for i, frame in enumerate(img):\n",
    " \n",
    "    x, y = Get_Center(img,i,i+ 1,False)\n",
    "    r, radial_dist, sigma, mean= fun.radius_usingprofile2D(img[i],[x,y])\n",
    "    centerx.append(x)\n",
    "    centery.append(y)\n",
    "    radius.append(r)\n",
    "    radial_profiles.append(radial_dist)\n",
    "\n",
    "    \n"
   ]
  },
  {
   "cell_type": "code",
   "execution_count": null,
   "metadata": {},
   "outputs": [],
   "source": [
    "reqrd =45\n",
    "plot_frame(img[reqrd],centerx[reqrd],centery[reqrd],radius[reqrd])\n",
    "\n",
    "\n",
    "fig, ax = plt.subplots()\n",
    "xaxis = np.linspace(0,len(radial_profiles[reqrd][:]),len(radial_profiles[reqrd][:]))   #re-shifting to make lowest diameter zero\n",
    "ax.plot(xaxis,radial_profiles[reqrd][:],'x',markersize=2)\n",
    "\n",
    "#-----From here on its plotting---- \n",
    "#ax.plot(frames, l, ls='--',c='r',linewidth=2)\n",
    "plt.xlabel('radius px')\n",
    "plt.ylabel('Intensity um')\n",
    "plt.title('Plot of intensity vs. radius --  Z-Stack')\n",
    "plt.grid()\n"
   ]
  },
  {
   "cell_type": "code",
   "execution_count": null,
   "metadata": {},
   "outputs": [],
   "source": [
    "\n",
    "\n",
    "dii = np.asarray(radius) * 2*(res/1000)  #diameter in micron\n",
    "RIfix = 1.33\n",
    "frames = np.arange(len(dii))*step_size*RIfix# 0.25 um is the step size of the z-stack!"
   ]
  },
  {
   "cell_type": "code",
   "execution_count": null,
   "metadata": {},
   "outputs": [],
   "source": [
    "shift = -1*frames[np.argmin(dii)]"
   ]
  },
  {
   "cell_type": "code",
   "execution_count": null,
   "metadata": {},
   "outputs": [],
   "source": [
    "\n",
    "#calculate z height from the calculated attributes\n",
    "fig, ax = plt.subplots()\n",
    "frames = frames + shift   #re-shifting to make lowest diameter zero\n",
    "ax.plot(frames,dii,'x',markersize=2)\n",
    "\n",
    "#-----From here on its plotting---- \n",
    "#ax.plot(frames, l, ls='--',c='r',linewidth=2)\n",
    "plt.xlabel('Z um')\n",
    "plt.ylabel('Diameter um')\n",
    "plt.title('Plot of Diameter vs. Z_height --  Z-Stack')\n",
    "plt.grid()\n"
   ]
  },
  {
   "cell_type": "markdown",
   "metadata": {},
   "source": [
    "Just fit a quadratic curve ! Certainly an Ugly method\n",
    "\n"
   ]
  },
  {
   "cell_type": "code",
   "execution_count": null,
   "metadata": {},
   "outputs": [],
   "source": [
    "dii_squared = []\n",
    "frame_sqrd = []\n",
    "\n",
    "dii_squared = np.multiply(dii,dii)\n",
    "frame_sqrd = np.multiply(frames, frames)\n",
    "pred_params, uncert_cov = curve_fit(fun.quadratic, frame_sqrd[1:np.argmin(dii)], dii_squared[1:np.argmin(dii)], method='lm')\n",
    "x = np.linspace(-shift,0,len(frame_sqrd)) + shift\n",
    "yy = (pred_params[2] + pred_params[0]* np.power(x,4) + pred_params[1]* np.power(x,2)  )\n",
    "\n",
    "plt.plot(np.power(x,2) , yy, ls='--',c='k')\n",
    "plt.plot(frame_sqrd[1:np.argmin(dii)],dii_squared[1:np.argmin(dii)], 'rx',markersize=5)\n",
    "\n",
    "plt.grid()\n",
    "plt.xlabel('Z^2 (Height Squared)')\n",
    "plt.ylabel('Diameter Squared um^2')\n",
    "plt.title('Plot of Diameter^2 vs. Z^2  -- Quadratic fit    --Not proud of it ')\n",
    "#plt.legend(['Linearized Hyperbolic fit (Replace objective with simple convex)','Red -Z', 'Green +Z'])\n",
    "print('Fit type is Quadratic ( diameter^2 vs  z_height^2)')\n",
    "print('a x^2', pred_params[0])\n",
    "print('b x ', pred_params[1])\n",
    "print('c  ', pred_params[2])\n",
    "#plt.xlim([0, 400])\n",
    "#plt.ylim([0, 150])\n",
    "\n"
   ]
  },
  {
   "cell_type": "code",
   "execution_count": null,
   "metadata": {},
   "outputs": [],
   "source": [
    "#Save the data\n",
    "data_list=[];\n",
    "data_list= [frame_sqrd.transpose(), dii_squared.transpose(), np.power(x,2).transpose(),yy.transpose() ]; \n",
    "dataframe = pd.DataFrame(data=np.array(data_list),index=['ff','dii','xx','yy'])\n",
    "dataframe.to_csv('D:/Lab_Data_Akalanka/2024_07_12/DataLow')"
   ]
  },
  {
   "cell_type": "markdown",
   "metadata": {},
   "source": [
    "This is to test the Hyperbolic model"
   ]
  },
  {
   "cell_type": "code",
   "execution_count": null,
   "metadata": {},
   "outputs": [],
   "source": [
    "dii_squared = []\n",
    "frame_sqrd = []"
   ]
  },
  {
   "cell_type": "code",
   "execution_count": null,
   "metadata": {},
   "outputs": [],
   "source": [
    "#fit a hyperbolic function to the above diameter vs height variation\n",
    "plt.figure()\n",
    "dii_squared = np.multiply(dii,dii)\n",
    "frame_sqrd = np.multiply(frames, frames)\n",
    "pred_params, uncert_cov = curve_fit(fun.line, frame_sqrd[10:np.argmin(dii)], dii_squared[10:np.argmin(dii)], method='lm')\n",
    "x = np.linspace(-shift,0,100) + shift\n",
    "yy = (pred_params[1] + pred_params[0]* np.multiply(x,x))\n",
    "plt.plot(np.multiply(x,x), yy, ls='--',c='k')\n",
    "plt.plot(frame_sqrd[10:np.argmin(dii)],dii_squared[10:np.argmin(dii)], 'rx',markersize=5)\n",
    "#plt.plot(frame_sqrd[np.argmin(dii):-1],dii_squared[np.argmin(dii):-1], 'gx',markersize=5)\n",
    "\n",
    "plt.grid()\n",
    "plt.xlabel('Z^2 (Height Squared)')\n",
    "plt.ylabel('Diameter Squared um^2')\n",
    "plt.title('Plot of Diameter^2 vs. Z^2  -- Hyperbolic fit to the Z-Stack')\n",
    "#plt.legend(['Linearized Hyperbolic fit (Replace objective with simple convex)','Red -Z', 'Green +Z'])\n",
    "print('Fit type is hyperbolic ( diameter^2 = A + B* z_height^2)')\n",
    "print('Gradient is (B)', pred_params[0])\n",
    "print('Intercept is (A) ', pred_params[1])\n",
    "#plt.xlim([0, 400])\n",
    "#plt.ylim([0, 400])\n"
   ]
  },
  {
   "cell_type": "markdown",
   "metadata": {},
   "source": [
    "As noted from above, whenever the intensity distribution at a certain plane deviates from the gaussian distribution, the Hyperbolic model fails. At its core is that at each Z plane, the gaussian nature is presevered. We certainly see that it does not hold all the time!"
   ]
  }
 ],
 "metadata": {
  "kernelspec": {
   "display_name": "base",
   "language": "python",
   "name": "python3"
  },
  "language_info": {
   "codemirror_mode": {
    "name": "ipython",
    "version": 3
   },
   "file_extension": ".py",
   "mimetype": "text/x-python",
   "name": "python",
   "nbconvert_exporter": "python",
   "pygments_lexer": "ipython3",
   "version": "3.12.2"
  },
  "orig_nbformat": 4
 },
 "nbformat": 4,
 "nbformat_minor": 2
}
