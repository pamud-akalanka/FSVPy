{
 "cells": [
  {
   "cell_type": "markdown",
   "metadata": {},
   "source": [
    "------------Streak Trajectories-------------------\n",
    "\n",
    "Aim of this code is to simulate the streaks using an experimental set of z-stacks which gives the diameter variation of the moving particle as it varies in 'z' /axial direction. \n",
    "This allows to test various hypotheses relating the image formation in the sensor for long exposure times as well as to develop and test methods to extract streak information."
   ]
  },
  {
   "cell_type": "code",
   "execution_count": null,
   "metadata": {},
   "outputs": [],
   "source": [
    "import matplotlib as mpl\n",
    "import matplotlib.pyplot as plt\n",
    "import numpy as np\n",
    "import pandas as pd\n",
    "import pims\n",
    "import skimage.measure\n",
    "import pylab\n",
    "from skimage.filters import difference_of_gaussians, window, gaussian\n",
    "from scipy.optimize import curve_fit\n",
    "from PIL import Image\n",
    "import radial_functions as fun\n",
    "\n",
    "\n"
   ]
  },
  {
   "cell_type": "code",
   "execution_count": null,
   "metadata": {},
   "outputs": [],
   "source": [
    "#useless functions defined here :\n",
    "#frames =[]\n",
    "#Get the center coordinates from the function in \"radial_functions.py\"\n",
    "def Get_Center(frames,frameStart, frameEnd, plott):\n",
    "\n",
    "    img = frames[frameStart:frameEnd]\n",
    "    contour = fun.see_all_contours(img,100)\n",
    "    xpos = np.asarray(contour['x'])\n",
    "    ypos = np.asarray(contour['y'])\n",
    "    radius = np.asarray(contour['radius'])[:]\n",
    "\n",
    "    #Plot to see the image\n",
    "    #call to plot_frame\n",
    "    if plott==True:\n",
    "        plot_frame(frames[frameStart],xpos,ypos,radius)\n",
    "\n",
    "    return (xpos, ypos)\n",
    "\n",
    "\n",
    "\n",
    "#plot contour inside frame\n",
    "def plot_frame(frame,xpos,ypos,radius):\n",
    "        \n",
    "    fig, ax = plt.subplots()\n",
    "    ax.imshow(frame,  cmap=\"Greys_r\")\n",
    "    ax.plot(xpos,ypos, 'r+', linewidth='2')\n",
    "    circle1 = plt.Circle((xpos, ypos),radius,color='r', fill=False, linewidth=0.5)\n",
    "    ax.add_patch(circle1)\n",
    "\n",
    "    fig.canvas.draw()\n",
    "    plt.show()\n",
    "\n",
    "    return \n",
    "\n",
    "\n"
   ]
  },
  {
   "cell_type": "code",
   "execution_count": null,
   "metadata": {},
   "outputs": [],
   "source": [
    "#Initialize the grid/coordinate space for the trajectories\n",
    "Grid = np.zeros((600,1000))\n",
    "Grid[:,350]= 255; Grid[300,:]=255\n",
    "#display the array as an image using imshow, showing the center of the image\n"
   ]
  },
  {
   "cell_type": "code",
   "execution_count": null,
   "metadata": {},
   "outputs": [],
   "source": [
    "#Read a test image to be places on the start of trajectory\n",
    "@pims.pipeline\n",
    "def conv_gray(frame):\n",
    "    one_channel = frame[:,:,1]\n",
    "    return one_channel\n",
    "\n",
    "#Change path to the image set in the line below\n",
    "#frames =(pims.open('*.tif'))\n",
    "frames =(pims.open('D:/Lab_Data_Akalanka/substack_calibration_20x1x_3um_step0.25_2710um_2810um_10ms/*.tif'))\n",
    "img = frames[50:290]\n",
    "#rescale image here\n",
    "dimx = 300\n",
    "dimy = 300\n",
    "\n",
    "#img = Image.open('')\n"
   ]
  },
  {
   "cell_type": "code",
   "execution_count": null,
   "metadata": {},
   "outputs": [],
   "source": [
    "#Input Flow velocity parameters which define the pixel distance between successive frame placements\n",
    "vx = 1 # in mm/s , simulating a streak at the center of the channel (max flow velocity)\n",
    "Resolution = 162.5 # in nm/pixel; corresponds to an NA of 20x 2x objective\n",
    "Exposure = 90 # in ms, this is a parameter we control\n",
    "zstack_length = img._len # no. of frames in the calibration stack\n",
    "\n",
    "streak_length = (vx * Exposure * 1000)/Resolution # streak length in pixels\n",
    "sample_distance = streak_length/zstack_length\n",
    "\n",
    "#To obtain a smoother streak, will place the same frame consecutively approx. 2 times \n",
    "sd = 1*sample_distance"
   ]
  },
  {
   "cell_type": "code",
   "execution_count": null,
   "metadata": {},
   "outputs": [],
   "source": [
    "adjusted_frames=[]\n",
    "for i, frame in enumerate(img):\n",
    "\n",
    "    #crop image and resize \n",
    "    centerx, centery = Get_Center(img,i,i + 1,False) #for cropping purposes\n",
    "    img2 = Image.fromarray(img[i])\n",
    "    img2  = img2.crop((int(centerx-150),int(centery-150),int(centerx+150),int(centery+150))) #left, top, right, bottom\n",
    "    n_img = img2.resize((dimy,dimx))\n",
    "    adjusted_frames.append(np.asarray(n_img))\n"
   ]
  },
  {
   "cell_type": "code",
   "execution_count": null,
   "metadata": {},
   "outputs": [],
   "source": [
    "test =225\n",
    "centerx, centery = Get_Center(adjusted_frames,test,test + 1,True)\n",
    "print(centerx); print(centery)"
   ]
  },
  {
   "cell_type": "code",
   "execution_count": null,
   "metadata": {},
   "outputs": [],
   "source": [
    "required = 55 # frame numnber for required iintensity profile\n",
    "profile =[]; saved_scenterx=[]; saved_scentery=[]; saved_frame=[];\n",
    "\n",
    "for i, frame in enumerate(adjusted_frames):\n",
    "\n",
    "    centerx, centery = Get_Center(adjusted_frames,i,i + 1,False); \n",
    "\n",
    "    #place the de-scaled images progressively along the path in the Grid\n",
    "\n",
    "\n",
    "    scenterx = centerx[0].astype(int)\n",
    "    scentery = centery[0].astype(int)\n",
    "\n",
    "    morphed_img = frame\n",
    "    #if i == required:\n",
    "    profile = morphed_img[scenterx,:] # save the intensity profile for latter comparison\n",
    "    #plt.imshow(morphed_img)\n",
    "    saved_scenterx.append(scenterx)\n",
    "    saved_scentery.append(scentery)\n",
    "    saved_frame.append(morphed_img)\n",
    "\n",
    "    vector = np.vectorize(np.int_)\n",
    "    Grid[(int((Grid.shape[0]/2))-(scenterx)):(int((Grid.shape[0]/2))+(dimx-scenterx)),(800-scentery-int((i)*sd)):(800-scentery+dimy-int((i)*sd))] += vector(morphed_img)"
   ]
  },
  {
   "cell_type": "code",
   "execution_count": null,
   "metadata": {},
   "outputs": [],
   "source": [
    "\n",
    "#Grid[(300-scenterx[0]):(300+dim-scenterx[0]),(400-scentery[0]):(400-scentery[0]+dim)] += n_img\n",
    "plt.imshow(Grid, interpolation='sinc', cmap='viridis')\n",
    "plt.title('Synthetic streak from Stack')\n"
   ]
  },
  {
   "cell_type": "code",
   "execution_count": null,
   "metadata": {},
   "outputs": [],
   "source": [
    "#Give an image interpolation to smoothen out the frames\n",
    "\n",
    "#bilinear_img = cv2.resize(Grid,None,fx=2,fy=2,interpolation=cv2.INTER_CUBIC)\n",
    "#kernel = np.ones((4,4),np.float32)/16\n",
    "#convolved = cv2.filter2D(bilinear_img,-1,kernel)\n",
    "#plt.imshow(convolved)"
   ]
  },
  {
   "cell_type": "code",
   "execution_count": null,
   "metadata": {},
   "outputs": [],
   "source": [
    "#compare the intesnity profile at a specific z-height/ frame before and after motion blur\n",
    "\n",
    "compared = Grid[int(Grid.shape[0]/2) - saved_scenterx[required]: int(Grid.shape[0]/2) + (dimx-saved_scenterx[required]), 550 - int(required*sample_distance)]\n",
    "#compared = compared/ (np.max(compared))\n",
    "#profile = profile/ np.max(profile[0])\n",
    "\n",
    "\n",
    "# Radius is determined by full width at half maximum\n",
    "radius_compared, newx, level, mean= fun.radius_usingprofile(compared, saved_scenterx[required]) # +8 is the problem!\n",
    "radius_profile, newx2, level2, mean2= fun.radius_usingprofile2D(saved_frame[required],[saved_scenterx[required],saved_scentery[required]])\n",
    "#radius_profile, newx2, level2= fun.radius_usingprofile(profile[0]) # NOTEEEE --- THERE IS A BACKGROUND SUBSTRACTION HERE !!!!!!!!!!!!!!!!!!!!!\n",
    "\n",
    "radius_compared_um = (radius_compared/dimx)*height *Resolution/1000\n",
    "radius_profile_um = (radius_profile/dimx)*height * Resolution/1000\n",
    "print('radius of extracted profile:' , radius_compared_um,'um')\n",
    "print('radius of original profile:', radius_profile_um , 'um')\n",
    "print('Percentage difference', abs(radius_compared_um-radius_profile_um)*100/(radius_profile_um), '%')\n",
    "\n",
    "#plot em together\n",
    "xpx = np.linspace(0,len(newx)-1, len(newx))\n",
    "\n",
    "xpx2 = np.linspace(0,len(newx2)-1, len(newx2))\n",
    "\n",
    "plt.figure()\n",
    "plt.plot(xpx, newx, 'b.', markersize=1, linewidth=1)\n",
    "\n",
    "#fit gaussian and plot\n",
    "plt.plot(xpx, fun.gauss(xpx, 1, mean, level),'b-',linewidth=1)\n",
    "plt.plot( xpx2, newx2,'r.', markersize=1, linewidth=1)\n",
    "#fit gauss\n",
    "plt.plot(xpx2, fun.gauss(xpx2, 1, mean2, level2),'r-' ,markersize=1, linewidth=1)\n",
    "plt.title('Intensity profile')\n",
    "plt.ylabel('Normalized Intensity')\n",
    "plt.xlabel('pixel length');\n",
    "plt.legend(['Extracted','Fitted Guassian','stack_image','Fit'])\n",
    "\n",
    "plt.figure()\n",
    "#plt.imshow(Grid)\n",
    "plot_frame(Grid,550 - int(required*sample_distance), int(Grid.shape[0]/2)+8 ,radius_compared)\n",
    "#plt.figure()\n",
    "#plot_frame(saved_frame,saved_scenterx, saved_scentery ,radius_profile)\n"
   ]
  },
  {
   "cell_type": "markdown",
   "metadata": {},
   "source": [
    "THE FOLLOWING IS TO CHECK WHETHER THE ORIGINAL INTENSITY DISTRIBUTION ACROSS THE CENTER IS PRESERVED WHEN THE STREAK IMAGE IS\n",
    "FORMED IN THE CCD SENSOR IN THE CAMERA. THE TIME INTERGRATION WILL CONVOLUTE THE INTENISTY VARIATION OF ONE FRAME WITH THE INTENSITY VARIATIONS OF SUCCESSIVE FRAMES.\n",
    "\n",
    "COMPARISON AGAINST A CALIBRATION DATA SET IS DEPENDENT UPOUN HOW CLOSELY THE INTENSITY VARIATION EXTRACTED FROM THE STREAK RESEMBLES WITH THE THE ORIGINAL UN-CONVOLUTED SINGLE Z-STACK FRAMES."
   ]
  },
  {
   "cell_type": "code",
   "execution_count": null,
   "metadata": {},
   "outputs": [],
   "source": [
    "#PLOT A GRAPH OF (RADIUS FROM THE STACK FRAME) VS. (RADIUS EXTRACTED FROM THE STREAK)\n",
    "# AT SAME INTERVALS THE FRAMES ARE PLACED\n",
    "radius_compared_um=[]; radius_profile_um=[]; radius_stored_forplot=[];\n",
    "for i in range(frames.shape[0]-1):\n",
    "\n",
    "    try:\n",
    "        compared = Grid[int(Grid.shape[0]/2) - saved_scenterx[i]: int(Grid.shape[0]/2) + (dim-saved_scenterx[i]), 550 - int(i*sample_distance)]\n",
    "\n",
    "        # Radius is determined by full width at half maximum\n",
    "        radius_compared, newx, level, mean= fun.radius_usingprofile(compared, saved_scenterx[i]+8) # +8 is the problem!\n",
    "        radius_profile, newx2, level2, mean2= fun.radius_usingprofile2D(saved_frame[i],[saved_scenterx[i],saved_scentery[i]])\n",
    "        #radius_profile, newx2, level2= fun.radius_usingprofile(profile[0]) # NOTEEEE --- THERE IS A BACKGROUND SUBSTRACTION HERE !!!!!!!!!!!!!!!!!!!!!\n",
    "\n",
    "        radius_compared_um.append((radius_compared/dim)*height *Resolution/1000)\n",
    "        radius_profile_um.append((radius_profile/dim)*height * Resolution/1000)\n",
    "        radius_stored_forplot.append(radius_compared)\n",
    "\n",
    "    except:\n",
    "        radius_compared_um.append(0)\n",
    "        radius_profile_um.append(0)\n",
    "        radius_stored_forplot.append(0)\n",
    "\n",
    "#plot this\n",
    "    \n",
    "plt.figure()\n",
    "plt.plot(radius_compared_um,radius_profile_um,'bx')\n",
    "plt.plot(np.linspace(0,len(radius_compared_um)*0.4,500),np.linspace(0,len(radius_compared_um)*0.4,500),'r-')\n",
    "plt.title(' Does time integration on the CCD change the radius? ')\n",
    "plt.ylabel('(RADIUS FROM THE STACK FRAME) um')\n",
    "plt.xlabel('(RADIUS EXTRACTED FROM THE STREAK) um')\n",
    "plt.grid()"
   ]
  },
  {
   "cell_type": "code",
   "execution_count": null,
   "metadata": {},
   "outputs": [],
   "source": [
    "\n",
    "fig, ax = plt.subplots()\n",
    "\n",
    "for i in range(frames.shape[0]-1):\n",
    "    if(i%5==0):\n",
    "        xpos = 550 - int(i*sample_distance)\n",
    "        ypos =  int(Grid.shape[0]/2)+8 \n",
    "        radius = radius_stored_forplot[i]\n",
    "        ax.plot(xpos,ypos, 'r+', linewidth='1')\n",
    "        circle1 = plt.Circle((xpos, ypos),radius,color='r', fill=False, linewidth=0.5)\n",
    "        ax.add_patch(circle1)\n",
    "\n",
    "plt.title('Streak formation/extraction')\n",
    "ax.imshow(Grid,  cmap=\"Greys_r\")\n",
    "fig.canvas.draw()\n",
    "plt.show()\n"
   ]
  },
  {
   "cell_type": "markdown",
   "metadata": {},
   "source": [
    "Fit a hyperbolic(linearized) to the diameters extracted from the streak, to determine Vz by fitting parameters.\n",
    "Ideally we need a calibration fit but try to estimate from the objective parameters themselves.\n",
    "\n",
    "Streak length in time is just the Exposure time\n",
    "0 -> tau\n",
    "\n",
    "Time interval between z-stack centers =  exposure/zlength"
   ]
  },
  {
   "cell_type": "code",
   "execution_count": null,
   "metadata": {},
   "outputs": [],
   "source": [
    "xx= np.linspace(0,Exposure,len(radius_compared_um))-np.argmin(radius_compared_um)*(Exposure/zstack_length)"
   ]
  },
  {
   "cell_type": "code",
   "execution_count": null,
   "metadata": {},
   "outputs": [],
   "source": [
    "#fit a hyperbolic function to the above diameter vs height variation\n",
    "plt.figure()\n",
    "dii_squared = np.multiply(radius_profile_um,radius_profile_um)*4\n",
    "frame_sqrd = np.multiply(xx, xx)\n",
    "pred_params, uncert_cov = curve_fit(fun.line,frame_sqrd[np.argmin(radius_compared_um):-1],dii_squared[np.argmin(radius_compared_um):-1], method='lm')\n",
    "x = np.linspace(0,Exposure,1000)-np.argmin(radius_compared_um)*(Exposure/zstack_length)\n",
    "yy = (pred_params[1] + pred_params[0]* np.multiply(x,x))\n",
    "plt.plot(np.multiply(x,x), yy, ls='--',c='k')\n",
    "plt.plot(frame_sqrd[0:np.argmin(radius_compared_um)],dii_squared[0:np.argmin(radius_compared_um)], 'rx',markersize=5)\n",
    "plt.plot(frame_sqrd[np.argmin(radius_compared_um):-1],dii_squared[np.argmin(radius_compared_um):-1], 'gx',markersize=5)\n",
    "\n",
    "plt.grid()\n",
    "plt.xlabel('t^2 (time Squared)')\n",
    "plt.ylabel('Diameter Squared um^2')\n",
    "plt.title('Plot of Diameter^2 vs. t^2  -- Hyperbolic fit to the Z-Stack')\n",
    "plt.legend(['Linearized Hyperbolic fit','Red -Z', 'Green +Z'])"
   ]
  }
 ],
 "metadata": {
  "kernelspec": {
   "display_name": "fsvpy",
   "language": "python",
   "name": "python3"
  },
  "language_info": {
   "codemirror_mode": {
    "name": "ipython",
    "version": 3
   },
   "file_extension": ".py",
   "mimetype": "text/x-python",
   "name": "python",
   "nbconvert_exporter": "python",
   "pygments_lexer": "ipython3",
   "version": "3.12.2"
  },
  "orig_nbformat": 4
 },
 "nbformat": 4,
 "nbformat_minor": 2
}
