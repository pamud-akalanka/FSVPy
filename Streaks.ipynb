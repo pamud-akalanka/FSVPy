{
 "cells": [
  {
   "cell_type": "code",
   "execution_count": 1,
   "metadata": {},
   "outputs": [],
   "source": [
    "import matplotlib.pyplot as plt\n",
    "import numpy as np\n",
    "import pims\n",
    "import fsvpy as fsv\n",
    "import pandas as pd\n",
    "from pandas import DataFrame, Series\n",
    "from scipy.optimize import curve_fit\n",
    "import os.path\n",
    "from scipy.optimize import OptimizeWarning\n",
    "import warnings"
   ]
  },
  {
   "cell_type": "code",
   "execution_count": 2,
   "metadata": {},
   "outputs": [],
   "source": [
    "#catch optimize error warnings\n",
    "with warnings.catch_warnings():\n",
    "    warnings.simplefilter(\"error\", OptimizeWarning)"
   ]
  },
  {
   "cell_type": "code",
   "execution_count": 3,
   "metadata": {},
   "outputs": [],
   "source": [
    "@pims.pipeline\n",
    "def conv_grey(frame):\n",
    "    one_channel = frame[:,:,1]\n",
    "    return one_channel\n",
    "\n",
    "#change tiff stack here ------>\n",
    "frames = pims.open('/Volumes/LAB_AKALANKA/March2024/2024_03_27/Flow_edge2/*.tif')\n",
    "\n",
    "singleFrame =False\n",
    "needplot = False\n",
    "frame = 5 #frame to show\n",
    "\n",
    "if needplot ==True:\n",
    "    plt.imshow(frames[frame], cmap = 'Greys_r')\n",
    "#frames= frames[13]"
   ]
  },
  {
   "cell_type": "code",
   "execution_count": 4,
   "metadata": {},
   "outputs": [],
   "source": [
    "#define arrays to store var\n",
    "\n",
    "temp =[] #stores width\n",
    "temp_h=[] # stores height\n",
    "centerx = []\n",
    "centery =[]\n",
    "\n"
   ]
  },
  {
   "cell_type": "code",
   "execution_count": 5,
   "metadata": {},
   "outputs": [
    {
     "name": "stdout",
     "output_type": "stream",
     "text": [
      "0processes completed....\n",
      "bad streak h: except block\n",
      "bad streak h: except block\n",
      "bad streak h: except block\n",
      "bad streak h: except block\n",
      "bad streak h: except block\n",
      "bad streak h: except block\n",
      "bad streak h: except block\n",
      "bad streak h: except block\n",
      "bad streak h: except block\n",
      "bad streak h: except block\n",
      "bad streak h: except block\n",
      "bad streak h: except block\n",
      "bad streak h: except block\n",
      "bad streak h: except block\n",
      "bad streak h: except block\n",
      "bad streak h: except block\n",
      "bad streak w: except block\n",
      "bad streak h: except block\n",
      "bad streak h: except block\n",
      "bad streak h: except block\n",
      "bad streak h: except block\n",
      "bad streak h: except block\n",
      "bad streak h: except block\n",
      "bad streak h: except block\n"
     ]
    }
   ],
   "source": [
    "\n",
    "#frames.shape[0]----- copy this in for loop for many frames i. e. singleFrame = False\n",
    "# (frame,frame+1,1) ---- copy this in loop for a single frame i.e. singleFrame = True\n",
    "for j in range(frames.shape[0]):\n",
    "\n",
    "    if j%100 ==0:\n",
    "        print(f'{j}processes completed....')\n",
    "\n",
    "    try:\n",
    "        image = frames[j]    \n",
    "        contours, preprocessed_img = fsv.locate_streaks(image)\n",
    "        #Now .locate streaks does the preprocess step, detects contours and returns it!   \n",
    "        streak_properties = fsv.parameters(contours)\n",
    "        # .parameters analyzes the contours detected, checks for the closed contours, and returns a PD containing contour properties( area, angle etc)\n",
    "        streak_properties= streak_properties.dropna()\n",
    "        # drops any NaN's in the dataframe\n",
    "        filtered_streaks= fsv.filter(streak_properties)\n",
    "        # .filter enforces min_height, min_aspect ratio and an edge filter to remove unwanted streaks\n",
    "        # returns the filtered data frame\n",
    "        filtered_streaks=filtered_streaks.dropna()\n",
    "        # just a caution- drops any Nan's\n",
    "        fitted_streaks= fsv.fit_shape(image, filtered_streaks)\n",
    "        # extract the width, height of the streaks by fitting to gaussians!\n",
    "        # This will work ok for in-plane streaks\n",
    "        # Need another way to fit for off-plane streaks, as they necessarily don't follow gaussian profiles'\n",
    "        # Returns the final pandas dataframe with all the streak parameters\n",
    "\n",
    "        if len(np.asarray(fitted_streaks['width'])) !=0:\n",
    "            temp.append(np.asarray(fitted_streaks['width']))\n",
    "            temp_h.append(np.asarray(fitted_streaks['height']))\n",
    "            centerx.append(np.asarray(fitted_streaks['x']))\n",
    "            centery.append(np.asarray(fitted_streaks['y']))\n",
    "            #add centers of the streak\n",
    "\n",
    "\n",
    "        else:\n",
    "            pass\n",
    "    except:\n",
    "        print('filter and or fitting failiure: ')\n",
    "        continue\n",
    " "
   ]
  },
  {
   "cell_type": "code",
   "execution_count": null,
   "metadata": {},
   "outputs": [],
   "source": [
    "if singleFrame:\n",
    "    # We need to look at athe original contours detected in the frame\n",
    "    fsv.plot_contours(frames[frame],contours)\n",
    "    fig, ax = plt.subplots()\n",
    "    ax.imshow(preprocessed_img, cmap='Greys_r')\n",
    "    ax.set_title('Pre-processed image');\n",
    "\n",
    "    # fit and plot the streaks\n",
    "    fsv.plot_fit(image, fitted_streaks)\n"
   ]
  },
  {
   "cell_type": "code",
   "execution_count": null,
   "metadata": {},
   "outputs": [],
   "source": [
    "#Input imaging parameters\n",
    "Resl = 325 # nm per pixel (20x with 1x)\n",
    "Exposure = 90 # in ms\n",
    "Flow_rate = 60 # in uLpermin\n",
    "\n",
    "#Filter out the NaN's coming from null tags\n",
    "true_width = []\n",
    "true_height= []\n",
    "true_centerx = []\n",
    "true_centery = []\n",
    "#convert from list to array\n",
    "for iter in range(len(temp)):\n",
    "    for i in range(int(temp[iter].shape[0])):\n",
    "         true_width.append(temp[iter][i])\n",
    "         true_height.append(temp_h[iter][i])\n",
    "         true_centerx.append(centerx[iter][i])\n",
    "         true_centery.append(centery[iter][i])\n",
    "\n",
    "#scale widths by resolution        \n",
    "true_width = np.asarray(true_width)* (Resl/((Exposure/1000)))/1000000 # in mm/s i.e the velocity\n",
    "true_height = np.asarray(true_height)* (Resl/1000) #in um, basically should equal particle diameter \n",
    "true_centerx = np.asarray(true_centerx)* (Resl/1000)\n",
    "true_centery = np.asarray(true_centery)* (Resl/1000)\n"
   ]
  },
  {
   "cell_type": "code",
   "execution_count": null,
   "metadata": {},
   "outputs": [],
   "source": [
    "\n",
    "fig, ax = plt.subplots(ncols=2, sharey = True, figsize=(15,5))\n",
    "ax[0].hist(true_width, bins=30, color='skyblue', edgecolor='black');\n",
    "ax[0].set_title('Histogram of Inplane Velocity')\n",
    "ax[0].set_xlabel('Velocity mm/s')\n",
    "ax[0].set_ylabel('Count')\n",
    "#ax[0].set_xlim([0.12, 0.16])\n",
    "ax[0].grid()\n",
    "\n",
    "ax[1].hist(true_height, bins=30, color='pink', edgecolor='black');\n",
    "ax[1].set_title('Histogram of Particle diameters')\n",
    "ax[1].grid()\n",
    "ax[1].set_xlabel('Particle diameter um')\n",
    "ax[1].set_ylabel('Count')\n"
   ]
  },
  {
   "cell_type": "markdown",
   "metadata": {},
   "source": [
    "Now just proceed to plot the vector fields..."
   ]
  },
  {
   "cell_type": "code",
   "execution_count": null,
   "metadata": {},
   "outputs": [],
   "source": [
    "# average rows \n",
    "# i.e. if upper left corner is (0,0) & down is X, right is Y\n",
    "# average all Y in a particular x\n",
    "\n",
    "Real_FOV  = 2048 * (Resl/1000)  # 2048 is image size mostly fixed for camera\n",
    "binsize = 20 # um values\n",
    "\n",
    "d = {'x': true_centerx, 'y': true_centery, 'velocity': true_width, 'diameter': true_height}\n",
    "\n",
    "\n",
    "all_properties = pd.DataFrame(data = d)\n",
    "\n",
    "\n",
    "# sort data frame ascending in x\n",
    "all_properties = all_properties.sort_values(by='x', ascending=True)\n"
   ]
  },
  {
   "cell_type": "markdown",
   "metadata": {},
   "source": [
    "Plot the velocity field as a interpolation"
   ]
  },
  {
   "cell_type": "code",
   "execution_count": null,
   "metadata": {},
   "outputs": [],
   "source": [
    "%matplotlib inline\n",
    "from mpl_toolkits import mplot3d\n",
    "fig = plt.figure(figsize = (7,7))\n",
    "ax = plt.axes(projection='3d')\n",
    "#create mesh\n",
    "X1, Y1 = np.meshgrid(true_centerx,true_centery)\n",
    "\n",
    "\n",
    "ax.plot3D(true_centerx, true_centery, true_width,'r.',markersize=1.3)\n",
    "ax.set_title('Velocity field Sample space (In-plane)')\n",
    "\n",
    "# Set axes label\n",
    "ax.set_xlabel('x', labelpad=20)\n",
    "ax.set_ylabel('y', labelpad=20)\n",
    "ax.set_zlabel('velocity mm/s', labelpad=1)\n",
    "ax.set_facecolor('#8c8c8c')\n",
    "plt.show()\n"
   ]
  },
  {
   "cell_type": "markdown",
   "metadata": {},
   "source": [
    "Averaging is not the best option to plot velocity (?)"
   ]
  },
  {
   "cell_type": "code",
   "execution_count": null,
   "metadata": {},
   "outputs": [],
   "source": [
    "# Average velocities according to bin size = []\n",
    "vx = []\n",
    "xpos=[]\n",
    "precision = 1 # um steps size for vector plot\n",
    "\n",
    "for i in range(0,int(Real_FOV),binsize):\n",
    "    start = i\n",
    "    end = (i + binsize)\n",
    "\n",
    "    df_1 = all_properties[(all_properties['x'] >= start) & (all_properties['x'] <= end)]\n",
    "\n",
    "    if (df_1.empty):\n",
    "        #d_2 = {'x': np.linspace(start,end,binsize+1), 'velocity':  np.zeros(binsize+1)}\n",
    "        x = np.linspace(start,end,binsize+1)\n",
    "        velocity = np.zeros(binsize+1)\n",
    "    else:\n",
    "        \n",
    "        xmean  = df_1['velocity'].mean()\n",
    "        x = np.linspace(start,end,binsize+1)\n",
    "        velocity =  xmean * np.ones(binsize+1)\n",
    "        #d_2 = {'x': np.linspace(start,end,binsize+1), 'velocity': xmean * np.ones(binsize+1)}\n",
    "    \n",
    "    #append to final df\n",
    "    #df_2 = pd.DataFrame(data = d_2)\n",
    "    for j in range(binsize):\n",
    "        vx.append(velocity[j])\n",
    "        xpos.append(x[j])\n",
    "\n",
    "    d2 = {'x': xpos, 'velocity': vx}\n",
    "    velocityfield = pd.DataFrame(data = d2)\n",
    "\n",
    "\n"
   ]
  },
  {
   "cell_type": "code",
   "execution_count": null,
   "metadata": {},
   "outputs": [],
   "source": [
    "#plot the vector field / Quiver plot\n",
    "#create a meshgrid\n",
    "scale=20\n",
    "X, Y = np.meshgrid(np.linspace(0, int(Real_FOV),int(Real_FOV/scale) ), np.linspace(0, int(Real_FOV),int(Real_FOV/scale) ))\n",
    "\n",
    "U = np.zeros([int(Real_FOV/scale),int(Real_FOV/scale)])\n",
    "for i in range(0,int(Real_FOV/scale)-1,1):\n",
    "    U[i,:] = vx[i*scale]+ U[i,:]\n",
    "\n",
    "V = np.zeros([int(Real_FOV/scale),int(Real_FOV/scale)])\n",
    "fig1, ax1 = plt.subplots()\n",
    "ax1.set_title('Velocity field')\n",
    "Q = ax1.quiver(X, Y, -U,V,U,cmap=\"Spectral\", scale=35, units='width')\n",
    "qk = ax1.quiverkey(Q, 0.9, 0.9, 2, r'$2 \\frac{m}{s}$', labelpos='E',\n",
    "                   coordinates='figure')\n"
   ]
  }
 ],
 "metadata": {
  "kernelspec": {
   "display_name": "fsvpy",
   "language": "python",
   "name": "python3"
  },
  "language_info": {
   "codemirror_mode": {
    "name": "ipython",
    "version": 3
   },
   "file_extension": ".py",
   "mimetype": "text/x-python",
   "name": "python",
   "nbconvert_exporter": "python",
   "pygments_lexer": "ipython3",
   "version": "3.11.6"
  },
  "orig_nbformat": 4
 },
 "nbformat": 4,
 "nbformat_minor": 2
}
